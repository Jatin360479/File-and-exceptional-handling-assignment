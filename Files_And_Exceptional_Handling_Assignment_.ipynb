{
  "nbformat": 4,
  "nbformat_minor": 0,
  "metadata": {
    "colab": {
      "provenance": []
    },
    "kernelspec": {
      "name": "python3",
      "display_name": "Python 3"
    },
    "language_info": {
      "name": "python"
    }
  },
  "cells": [
    {
      "cell_type": "markdown",
      "source": [
        "### Question 2. Describe what a process pool is and how it helps in managing multiple processes efficiently."
      ],
      "metadata": {
        "id": "eFWYKp5zUgZI"
      }
    },
    {
      "cell_type": "code",
      "source": [
        "import multiprocessing\n",
        "from multiprocessing import Pool\n",
        "\n",
        "def square(x):\n",
        "  return x * x\n",
        "\n",
        "if __name__ == '__main__':\n",
        "  with Pool(processes=4) as pool: # Create a pool with 4 worker processes\n",
        "    results = pool.map(square, [1, 2, 3, 4, 5]) # Distribute tasks to the pool\n",
        "    print(results) # Collect and print the results"
      ],
      "metadata": {
        "colab": {
          "base_uri": "https://localhost:8080/"
        },
        "id": "njzdJE1zUWMx",
        "outputId": "3a2b519b-b740-4bfe-e8d9-58189f037871"
      },
      "execution_count": 3,
      "outputs": [
        {
          "output_type": "stream",
          "name": "stdout",
          "text": [
            "[1, 4, 9, 16, 25]\n"
          ]
        }
      ]
    },
    {
      "cell_type": "markdown",
      "source": [
        "### Question 4. Write a Python program using multithreading where one thread adds numbers to a list, and another thread removes numbers from the list. Implement a mechanism to avoid race conditions using threading.Lock."
      ],
      "metadata": {
        "id": "Yyv6wDnKWOwl"
      }
    },
    {
      "cell_type": "code",
      "source": [
        "import threading\n",
        "import time\n",
        "import random\n",
        "\n",
        "# Shared resource\n",
        "shared_list = []\n",
        "# Lock for synchronizing access to the shared list\n",
        "lock = threading.Lock()\n",
        "\n",
        "# Function to add numbers to the list\n",
        "def add_numbers():\n",
        "    for i in range(4):\n",
        "        time.sleep(random.uniform(0.1, 0.5))  # Simulate variable time to add\n",
        "        with lock:\n",
        "            shared_list.append(i)\n",
        "            print(f'Added {i}: {shared_list}')\n",
        "\n",
        "# Function to remove numbers from the list\n",
        "def remove_numbers():\n",
        "    for _ in range(4):\n",
        "        time.sleep(random.uniform(0.1, 0.5))  # Simulate variable time to remove\n",
        "        with lock:\n",
        "            if shared_list:\n",
        "                removed = shared_list.pop(0)\n",
        "                print(f'Removed {removed}: {shared_list}')\n",
        "            else:\n",
        "                print('No numbers to remove.')\n",
        "\n",
        "# Create threads\n",
        "add_thread = threading.Thread(target=add_numbers)\n",
        "remove_thread = threading.Thread(target=remove_numbers)\n",
        "\n",
        "# Start threads\n",
        "add_thread.start()\n",
        "remove_thread.start()\n",
        "\n",
        "# Wait for both threads to finish\n",
        "add_thread.join()\n",
        "remove_thread.join()\n",
        "\n",
        "print('Final state of the list:', shared_list)\n",
        "\n"
      ],
      "metadata": {
        "colab": {
          "base_uri": "https://localhost:8080/"
        },
        "id": "BYY5rv75Xf2M",
        "outputId": "ec28b5e3-77a5-4a20-f8b5-1c945481f09a"
      },
      "execution_count": 10,
      "outputs": [
        {
          "output_type": "stream",
          "name": "stdout",
          "text": [
            "Removed 4 from the list. Current list: [4, 3, 5, 1, 3]\n",
            "Added 3 to the list. Current list: [4, 3, 5, 1, 3, 3]\n",
            "Removed 4 from the list. Current list: [3, 5, 1, 3, 3]\n",
            "Removed 3 from the list. Current list: [5, 1, 3, 3]\n",
            "Added 6 to the list. Current list: [5, 1, 3, 3, 6]\n",
            "No numbers to remove.\n",
            "Removed 5 from the list. Current list: [1, 3, 3, 6]\n",
            "Added 0: [0]\n",
            "Removed 1 from the list. Current list: [3, 3, 6]\n",
            "Added 1: [0, 1]\n",
            "Removed 3 from the list. Current list: [3, 6]\n",
            "Added 2: [0, 1, 2]\n",
            "Added 4 to the list. Current list: [3, 6, 4]\n",
            "Removed 3 from the list. Current list: [6, 4]\n",
            "Removed 0: [1, 2]\n",
            "Added 5 to the list. Current list: [6, 4, 5]\n",
            "Added 3 to the list. Current list: [6, 4, 5, 3]\n",
            "Added 2 to the list. Current list: [6, 4, 5, 3, 2]\n",
            "Removed 6 from the list. Current list: [4, 5, 3, 2]\n",
            "Added 3: [1, 2, 3]\n",
            "Removed 4 from the list. Current list: [5, 3, 2]\n",
            "Added 2 to the list. Current list: [5, 3, 2, 2]\n",
            "Removed 1: [2, 3]\n",
            "Removed 5 from the list. Current list: [3, 2, 2]\n",
            "Removed 3 from the list. Current list: [2, 2]\n",
            "Added 4 to the list. Current list: [2, 2, 4]\n",
            "Removed 2 from the list. Current list: [2, 4]\n",
            "Removed 2: [3]\n",
            "Final state of the list: [3]\n",
            "Removed 2 from the list. Current list: [4]\n",
            "Added 2 to the list. Current list: [4, 2]\n",
            "Added 8 to the list. Current list: [4, 2, 8]\n",
            "Added 6 to the list. Current list: [4, 2, 8, 6]\n",
            "Removed 4 from the list. Current list: [2, 8, 6]\n"
          ]
        }
      ]
    },
    {
      "cell_type": "markdown",
      "source": [
        "### Question 7. Create a program that uses a thread pool to calculate the factorial of numbers from 1 to 10 concurrently. Use concurrent.futures.ThreadPoolExecutor to manage the threads."
      ],
      "metadata": {
        "id": "2kttU4HkbC0F"
      }
    },
    {
      "cell_type": "code",
      "source": [
        "import concurrent.futures\n",
        "import time\n",
        "\n",
        "def factorial(n):\n",
        "  if n == 0:\n",
        "    return 1\n",
        "  else:\n",
        "    return n * factorial(n-1)\n",
        "\n",
        "if __name__ == '__main__':\n",
        "  with concurrent.futures.ThreadPoolExecutor(max_workers=10) as executor:\n",
        "    futures = [executor.submit(factorial, i) for i in range(1, 11)]\n",
        "\n",
        "    for future in concurrent.futures.as_completed(futures):\n",
        "      print(f\"Factorial: {future.result()}\")"
      ],
      "metadata": {
        "colab": {
          "base_uri": "https://localhost:8080/"
        },
        "id": "zurKYk2xaN54",
        "outputId": "f0c27d6f-11ff-49df-e47a-620765524128"
      },
      "execution_count": 12,
      "outputs": [
        {
          "output_type": "stream",
          "name": "stdout",
          "text": [
            "Added 10 to the list. Current list: [2, 5, 2, 3, 10, 7, 10, 4, 1, 1, 4, 8, 9, 2, 7, 1, 10, 6, 8, 3, 8, 9, 8, 10, 5, 5, 3, 10]\n",
            "Removed 2 from the list. Current list: [5, 2, 3, 10, 7, 10, 4, 1, 1, 4, 8, 9, 2, 7, 1, 10, 6, 8, 3, 8, 9, 8, 10, 5, 5, 3, 10]\n",
            "Factorial: 720\n",
            "Factorial: 362880\n",
            "Factorial: 1\n",
            "Factorial: 24\n",
            "Factorial: 40320\n",
            "Factorial: 2\n",
            "Factorial: 6\n",
            "Factorial: 5040\n",
            "Factorial: 120\n",
            "Factorial: 3628800\n"
          ]
        }
      ]
    },
    {
      "cell_type": "markdown",
      "source": [
        "### Question 8. Create a Python program that uses multiprocessing.Pool to compute the square of numbers from 1 to 10 in parallel. Measure the time taken to perform this computation using a pool of different sizes (e.g., 2, 4, 8 processes)."
      ],
      "metadata": {
        "id": "fSPHHqVibNTh"
      }
    },
    {
      "cell_type": "code",
      "source": [
        "import multiprocessing\n",
        "import time\n",
        "\n",
        "def square(x):\n",
        "  return x * x\n",
        "\n",
        "if __name__ == '__main__':\n",
        "  numbers = list(range(1, 11))\n",
        "\n",
        "  for num_processes in [2, 4, 8]:\n",
        "    start_time = time.time()\n",
        "\n",
        "    with multiprocessing.Pool(processes=num_processes) as pool:\n",
        "      results = pool.map(square, numbers)\n",
        "\n",
        "    end_time = time.time()\n",
        "    print(f\"With {num_processes} processes:\")\n",
        "    print(f\"Results: {results}\")\n",
        "    print(f\"Time taken: {end_time - start_time:.4f} seconds\")\n",
        "    print(\"-\" * 20)"
      ],
      "metadata": {
        "colab": {
          "base_uri": "https://localhost:8080/"
        },
        "id": "UCFfAoOrbIgE",
        "outputId": "0799151f-5922-4795-f4d6-8ed417f0d1e9"
      },
      "execution_count": 13,
      "outputs": [
        {
          "output_type": "stream",
          "name": "stdout",
          "text": [
            "Added 3 to the list. Current list: [5, 1, 3, 5, 6, 1, 10, 2, 7, 2, 1, 7, 9, 4, 3, 2, 7, 1, 9, 3]\n",
            "With 2 processes:\n",
            "Results: [1, 4, 9, 16, 25, 36, 49, 64, 81, 100]\n",
            "Time taken: 0.0472 seconds\n",
            "--------------------\n",
            "Removed 5 from the list. Current list: [1, 3, 5, 6, 1, 10, 2, 7, 2, 1, 7, 9, 4, 3, 2, 7, 1, 9, 3]\n",
            "Removed 5 from the list. Current list: [1, 3, 5, 6, 1, 10, 2, 7, 2, 1, 7, 9, 4, 3, 2, 7, 1, 9, 3]\n",
            "With 4 processes:\n",
            "Results: [1, 4, 9, 16, 25, 36, 49, 64, 81, 100]\n",
            "Time taken: 0.0805 seconds\n",
            "--------------------\n",
            "With 8 processes:\n",
            "Results: [1, 4, 9, 16, 25, 36, 49, 64, 81, 100]\n",
            "Time taken: 0.1273 seconds\n",
            "--------------------\n",
            "Removed 1 from the list. Current list: [3, 5, 6, 1, 10, 2, 7, 2, 1, 7, 9, 4, 3, 2, 7, 1, 9, 3]\n",
            "Added 10 to the list. Current list: [3, 5, 6, 1, 10, 2, 7, 2, 1, 7, 9, 4, 3, 2, 7, 1, 9, 3, 10]\n",
            "Removed 3 from the list. Current list: [5, 6, 1, 10, 2, 7, 2, 1, 7, 9, 4, 3, 2, 7, 1, 9, 3, 10]\n",
            "Added 3 to the list. Current list: [5, 6, 1, 10, 2, 7, 2, 1, 7, 9, 4, 3, 2, 7, 1, 9, 3, 10, 3]\n",
            "Removed 5 from the list. Current list: [6, 1, 10, 2, 7, 2, 1, 7, 9, 4, 3, 2, 7, 1, 9, 3, 10, 3]\n",
            "Added 5 to the list. Current list: [6, 1, 10, 2, 7, 2, 1, 7, 9, 4, 3, 2, 7, 1, 9, 3, 10, 3, 5]\n"
          ]
        }
      ]
    },
    {
      "cell_type": "code",
      "source": [],
      "metadata": {
        "id": "Kxsmb96SbZfr"
      },
      "execution_count": null,
      "outputs": []
    }
  ]
}